{
 "cells": [
  {
   "cell_type": "code",
   "execution_count": 1,
   "id": "f2109b40-d4b5-4831-89f1-c5af9cf2606f",
   "metadata": {},
   "outputs": [],
   "source": [
    "import numpy as np   \n",
    "import pandas as pd    \n",
    "import matplotlib.pyplot as plt \n",
    "%matplotlib inline \n",
    "import seaborn as sns\n",
    "from sklearn.preprocessing import LabelEncoder"
   ]
  },
  {
   "cell_type": "code",
   "execution_count": 2,
   "id": "42652941-c125-4f14-8723-24f7aeeea491",
   "metadata": {},
   "outputs": [],
   "source": [
    "    \n",
    "dataset = pd.read_csv('nba (1).csv')"
   ]
  },
  {
   "cell_type": "code",
   "execution_count": 13,
   "id": "344c3dec-5e68-4ec3-ab2a-959000891be2",
   "metadata": {},
   "outputs": [
    {
     "data": {
      "text/html": [
       "<div>\n",
       "<style scoped>\n",
       "    .dataframe tbody tr th:only-of-type {\n",
       "        vertical-align: middle;\n",
       "    }\n",
       "\n",
       "    .dataframe tbody tr th {\n",
       "        vertical-align: top;\n",
       "    }\n",
       "\n",
       "    .dataframe thead th {\n",
       "        text-align: right;\n",
       "    }\n",
       "</style>\n",
       "<table border=\"1\" class=\"dataframe\">\n",
       "  <thead>\n",
       "    <tr style=\"text-align: right;\">\n",
       "      <th></th>\n",
       "      <th>Name</th>\n",
       "      <th>Team</th>\n",
       "      <th>Number</th>\n",
       "      <th>Position</th>\n",
       "      <th>Age</th>\n",
       "      <th>Height</th>\n",
       "      <th>Weight</th>\n",
       "      <th>College</th>\n",
       "      <th>Salary</th>\n",
       "    </tr>\n",
       "  </thead>\n",
       "  <tbody>\n",
       "    <tr>\n",
       "      <th>0</th>\n",
       "      <td>Avery Bradley</td>\n",
       "      <td>Boston Celtics</td>\n",
       "      <td>0.0</td>\n",
       "      <td>PG</td>\n",
       "      <td>25.0</td>\n",
       "      <td>6-2</td>\n",
       "      <td>180.0</td>\n",
       "      <td>Texas</td>\n",
       "      <td>7730337.0</td>\n",
       "    </tr>\n",
       "    <tr>\n",
       "      <th>1</th>\n",
       "      <td>Jae Crowder</td>\n",
       "      <td>Boston Celtics</td>\n",
       "      <td>99.0</td>\n",
       "      <td>SF</td>\n",
       "      <td>25.0</td>\n",
       "      <td>6-6</td>\n",
       "      <td>235.0</td>\n",
       "      <td>Marquette</td>\n",
       "      <td>6796117.0</td>\n",
       "    </tr>\n",
       "    <tr>\n",
       "      <th>2</th>\n",
       "      <td>John Holland</td>\n",
       "      <td>Boston Celtics</td>\n",
       "      <td>30.0</td>\n",
       "      <td>SG</td>\n",
       "      <td>27.0</td>\n",
       "      <td>6-5</td>\n",
       "      <td>205.0</td>\n",
       "      <td>Boston University</td>\n",
       "      <td>NaN</td>\n",
       "    </tr>\n",
       "    <tr>\n",
       "      <th>3</th>\n",
       "      <td>R.J. Hunter</td>\n",
       "      <td>Boston Celtics</td>\n",
       "      <td>28.0</td>\n",
       "      <td>SG</td>\n",
       "      <td>22.0</td>\n",
       "      <td>6-5</td>\n",
       "      <td>185.0</td>\n",
       "      <td>Georgia State</td>\n",
       "      <td>1148640.0</td>\n",
       "    </tr>\n",
       "    <tr>\n",
       "      <th>4</th>\n",
       "      <td>Jonas Jerebko</td>\n",
       "      <td>Boston Celtics</td>\n",
       "      <td>8.0</td>\n",
       "      <td>PF</td>\n",
       "      <td>29.0</td>\n",
       "      <td>6-10</td>\n",
       "      <td>231.0</td>\n",
       "      <td>NaN</td>\n",
       "      <td>5000000.0</td>\n",
       "    </tr>\n",
       "  </tbody>\n",
       "</table>\n",
       "</div>"
      ],
      "text/plain": [
       "            Name            Team  Number Position   Age Height  Weight  \\\n",
       "0  Avery Bradley  Boston Celtics     0.0       PG  25.0    6-2   180.0   \n",
       "1    Jae Crowder  Boston Celtics    99.0       SF  25.0    6-6   235.0   \n",
       "2   John Holland  Boston Celtics    30.0       SG  27.0    6-5   205.0   \n",
       "3    R.J. Hunter  Boston Celtics    28.0       SG  22.0    6-5   185.0   \n",
       "4  Jonas Jerebko  Boston Celtics     8.0       PF  29.0   6-10   231.0   \n",
       "\n",
       "             College     Salary  \n",
       "0              Texas  7730337.0  \n",
       "1          Marquette  6796117.0  \n",
       "2  Boston University        NaN  \n",
       "3      Georgia State  1148640.0  \n",
       "4                NaN  5000000.0  "
      ]
     },
     "execution_count": 13,
     "metadata": {},
     "output_type": "execute_result"
    }
   ],
   "source": [
    "dataset.head()"
   ]
  },
  {
   "cell_type": "code",
   "execution_count": 14,
   "id": "0109ed5d-de90-4c15-ac27-8b321817ea1f",
   "metadata": {},
   "outputs": [
    {
     "data": {
      "text/plain": [
       "Name         object\n",
       "Team         object\n",
       "Number      float64\n",
       "Position     object\n",
       "Age         float64\n",
       "Height       object\n",
       "Weight      float64\n",
       "College      object\n",
       "Salary      float64\n",
       "dtype: object"
      ]
     },
     "execution_count": 14,
     "metadata": {},
     "output_type": "execute_result"
    }
   ],
   "source": [
    "dataset.dtypes"
   ]
  },
  {
   "cell_type": "code",
   "execution_count": 15,
   "id": "f6cd43a4-cdbe-407c-9bcd-68db8ab62098",
   "metadata": {},
   "outputs": [
    {
     "data": {
      "text/plain": [
       "Name         1\n",
       "Team         1\n",
       "Number       1\n",
       "Position     1\n",
       "Age          1\n",
       "Height       1\n",
       "Weight       1\n",
       "College     85\n",
       "Salary      12\n",
       "dtype: int64"
      ]
     },
     "execution_count": 15,
     "metadata": {},
     "output_type": "execute_result"
    }
   ],
   "source": [
    "    dataset.isnull().sum()"
   ]
  },
  {
   "cell_type": "code",
   "execution_count": 17,
   "id": "3c5fb573-66f0-42ba-aa37-f83c7af0a099",
   "metadata": {},
   "outputs": [],
   "source": [
    "mode = dataset['College'].mode()[0]\n",
    "#return most freq value as we have used[0]\n",
    "dataset['College'].fillna(mode,inplace=True)\n",
    "#ensures the changes are made directly to the dataset, and no new object is returned.\n"
   ]
  },
  {
   "cell_type": "code",
   "execution_count": 25,
   "id": "4d9bc4d6-408d-41be-8122-483146e3b2a5",
   "metadata": {},
   "outputs": [
    {
     "data": {
      "text/plain": [
       "0"
      ]
     },
     "execution_count": 25,
     "metadata": {},
     "output_type": "execute_result"
    }
   ],
   "source": [
    "dataset['College'].isnull().sum().sum()"
   ]
  },
  {
   "cell_type": "code",
   "execution_count": 29,
   "id": "3565c421-68d7-48e1-bd53-b17a22e855c5",
   "metadata": {},
   "outputs": [
    {
     "data": {
      "text/plain": [
       "array(['Texas', 'Marquette', 'Boston University', 'Georgia State',\n",
       "       'Kentucky', 'LSU', 'Gonzaga', 'Louisville', 'Oklahoma State',\n",
       "       'Ohio State', 'Washington', 'North Carolina', 'Arizona',\n",
       "       'Georgia Tech', 'Cincinnati', 'Miami (FL)', 'Stanford', 'Syracuse',\n",
       "       'Saint Louis', 'Kansas', 'Georgetown', 'Texas A&M', 'UCLA', 'UNLV',\n",
       "       'Wichita State', \"Saint Joseph's\", 'Notre Dame', 'Norfolk State',\n",
       "       'Duke', 'Murray State', 'Tennessee State', 'Bowling Green',\n",
       "       'Purdue', 'Wake Forest', 'Michigan', 'Missouri', 'USC',\n",
       "       'Villanova', 'Rider', 'Utah', 'Belmont', 'Davidson', 'Vanderbilt',\n",
       "       'Michigan State', 'Florida', 'Washington State', 'Arizona State',\n",
       "       'Oklahoma', 'Wyoming', \"St. John's\", 'Maryland', 'Wisconsin',\n",
       "       'Utah Valley', 'North Carolina State', 'UC Santa Barbara',\n",
       "       'Baylor', 'Connecticut', 'Oregon State', 'New Mexico', 'Oregon',\n",
       "       'Creighton', 'Arkansas', 'Memphis', \"Saint Mary's\", 'Tennessee',\n",
       "       'Alabama', 'Georgia', 'Colorado', 'Boston College', 'Temple',\n",
       "       'Fresno State', 'IUPUI', 'Eastern Washington', 'Western Michigan',\n",
       "       'Virginia', 'Northeastern', 'Western Kentucky', 'Nevada',\n",
       "       'Illinois', 'Kansas State', 'Charleston', 'Clemson',\n",
       "       'Blinn College', 'Providence', 'Detroit', 'Rhode Island',\n",
       "       'California', 'Cleveland State', 'Iowa State', 'Florida State',\n",
       "       'Long Beach State', 'Penn State', 'Indiana', 'San Diego State',\n",
       "       'Western Carolina', 'Houston', 'Xavier', 'Old Dominion',\n",
       "       'Minnesota', 'Louisiana Tech', 'Bucknell', 'Pittsburgh',\n",
       "       'Virginia Commonwealth', 'Harvard', 'Marshall', 'Iowa',\n",
       "       'St. Bonaventure', 'Louisiana-Lafayette', 'Colorado State',\n",
       "       'Virginia Tech', 'DePaul', 'Morehead State', 'Central Michigan',\n",
       "       'Weber State', 'Lehigh', 'Westchester CC', 'Dayton', 'Butler'],\n",
       "      dtype=object)"
      ]
     },
     "execution_count": 29,
     "metadata": {},
     "output_type": "execute_result"
    }
   ],
   "source": [
    "dataset['College'].unique()"
   ]
  },
  {
   "cell_type": "code",
   "execution_count": 30,
   "id": "d166a71a-3d72-41b3-9c7e-f07a3b4012eb",
   "metadata": {},
   "outputs": [
    {
     "data": {
      "text/plain": [
       "(458, 9)"
      ]
     },
     "execution_count": 30,
     "metadata": {},
     "output_type": "execute_result"
    }
   ],
   "source": [
    "dataset.shape"
   ]
  },
  {
   "cell_type": "code",
   "execution_count": 31,
   "id": "6d49f174-cffa-4531-afd9-933fccadcefc",
   "metadata": {},
   "outputs": [
    {
     "data": {
      "text/html": [
       "<div>\n",
       "<style scoped>\n",
       "    .dataframe tbody tr th:only-of-type {\n",
       "        vertical-align: middle;\n",
       "    }\n",
       "\n",
       "    .dataframe tbody tr th {\n",
       "        vertical-align: top;\n",
       "    }\n",
       "\n",
       "    .dataframe thead th {\n",
       "        text-align: right;\n",
       "    }\n",
       "</style>\n",
       "<table border=\"1\" class=\"dataframe\">\n",
       "  <thead>\n",
       "    <tr style=\"text-align: right;\">\n",
       "      <th></th>\n",
       "      <th>Number</th>\n",
       "      <th>Age</th>\n",
       "      <th>Weight</th>\n",
       "      <th>Salary</th>\n",
       "    </tr>\n",
       "  </thead>\n",
       "  <tbody>\n",
       "    <tr>\n",
       "      <th>count</th>\n",
       "      <td>457.000000</td>\n",
       "      <td>457.000000</td>\n",
       "      <td>457.000000</td>\n",
       "      <td>4.460000e+02</td>\n",
       "    </tr>\n",
       "    <tr>\n",
       "      <th>mean</th>\n",
       "      <td>17.678337</td>\n",
       "      <td>26.938731</td>\n",
       "      <td>221.522976</td>\n",
       "      <td>4.842684e+06</td>\n",
       "    </tr>\n",
       "    <tr>\n",
       "      <th>std</th>\n",
       "      <td>15.966090</td>\n",
       "      <td>4.404016</td>\n",
       "      <td>26.368343</td>\n",
       "      <td>5.229238e+06</td>\n",
       "    </tr>\n",
       "    <tr>\n",
       "      <th>min</th>\n",
       "      <td>0.000000</td>\n",
       "      <td>19.000000</td>\n",
       "      <td>161.000000</td>\n",
       "      <td>3.088800e+04</td>\n",
       "    </tr>\n",
       "    <tr>\n",
       "      <th>25%</th>\n",
       "      <td>5.000000</td>\n",
       "      <td>24.000000</td>\n",
       "      <td>200.000000</td>\n",
       "      <td>1.044792e+06</td>\n",
       "    </tr>\n",
       "    <tr>\n",
       "      <th>50%</th>\n",
       "      <td>13.000000</td>\n",
       "      <td>26.000000</td>\n",
       "      <td>220.000000</td>\n",
       "      <td>2.839073e+06</td>\n",
       "    </tr>\n",
       "    <tr>\n",
       "      <th>75%</th>\n",
       "      <td>25.000000</td>\n",
       "      <td>30.000000</td>\n",
       "      <td>240.000000</td>\n",
       "      <td>6.500000e+06</td>\n",
       "    </tr>\n",
       "    <tr>\n",
       "      <th>max</th>\n",
       "      <td>99.000000</td>\n",
       "      <td>40.000000</td>\n",
       "      <td>307.000000</td>\n",
       "      <td>2.500000e+07</td>\n",
       "    </tr>\n",
       "  </tbody>\n",
       "</table>\n",
       "</div>"
      ],
      "text/plain": [
       "           Number         Age      Weight        Salary\n",
       "count  457.000000  457.000000  457.000000  4.460000e+02\n",
       "mean    17.678337   26.938731  221.522976  4.842684e+06\n",
       "std     15.966090    4.404016   26.368343  5.229238e+06\n",
       "min      0.000000   19.000000  161.000000  3.088800e+04\n",
       "25%      5.000000   24.000000  200.000000  1.044792e+06\n",
       "50%     13.000000   26.000000  220.000000  2.839073e+06\n",
       "75%     25.000000   30.000000  240.000000  6.500000e+06\n",
       "max     99.000000   40.000000  307.000000  2.500000e+07"
      ]
     },
     "execution_count": 31,
     "metadata": {},
     "output_type": "execute_result"
    }
   ],
   "source": [
    "dataset.describe()"
   ]
  },
  {
   "cell_type": "code",
   "execution_count": 33,
   "id": "273b87cc-ddb8-44db-867d-db8c2ad0ecff",
   "metadata": {},
   "outputs": [
    {
     "data": {
      "text/plain": [
       "count    457.000000\n",
       "mean      26.938731\n",
       "std        4.404016\n",
       "min       19.000000\n",
       "25%       24.000000\n",
       "50%       26.000000\n",
       "75%       30.000000\n",
       "max       40.000000\n",
       "Name: Age, dtype: float64"
      ]
     },
     "execution_count": 33,
     "metadata": {},
     "output_type": "execute_result"
    }
   ],
   "source": [
    "dataset['Age'].describe()\n",
    "#measure of central tendamcy"
   ]
  },
  {
   "cell_type": "code",
   "execution_count": 34,
   "id": "22631301-6132-4708-b0d9-083a160ee341",
   "metadata": {},
   "outputs": [],
   "source": [
    "#for midrange max + min /2\n",
    "midrange = (dataset['Age'].min() + dataset['Age'].max())/2"
   ]
  },
  {
   "cell_type": "code",
   "execution_count": 36,
   "id": "489d2ecd-0658-46a8-9b73-58bc4b94bd4d",
   "metadata": {},
   "outputs": [
    {
     "name": "stdout",
     "output_type": "stream",
     "text": [
      "29.5\n"
     ]
    }
   ],
   "source": [
    "print(midrange)"
   ]
  },
  {
   "cell_type": "code",
   "execution_count": 39,
   "id": "7865790d-9f79-443f-ae27-9c63eef0a307",
   "metadata": {},
   "outputs": [],
   "source": [
    "data = dataset[\"Age\"].dropna()"
   ]
  },
  {
   "cell_type": "code",
   "execution_count": 40,
   "id": "da016dec-d5d7-4e1a-85b4-dc849190b9fd",
   "metadata": {},
   "outputs": [
    {
     "name": "stdout",
     "output_type": "stream",
     "text": [
      "26.938730853391686\n"
     ]
    }
   ],
   "source": [
    "#mean sum /total\n",
    "\n",
    "print(sum(data) / len(data))"
   ]
  },
  {
   "cell_type": "code",
   "execution_count": 45,
   "id": "9e57e1f2-a6a2-49f1-8e17-95b4a2c6be15",
   "metadata": {},
   "outputs": [
    {
     "name": "stdout",
     "output_type": "stream",
     "text": [
      "26.0\n"
     ]
    }
   ],
   "source": [
    "#median\n",
    "data =sorted(data)\n",
    "leht = len(data)\n",
    "if leht /2 != 0:\n",
    "    median = data[leht // 2]\n",
    "else:\n",
    "    median = (data[n // 2 - 1] + data[n // 2]) / 2\n",
    "print(median)"
   ]
  },
  {
   "cell_type": "code",
   "execution_count": 44,
   "id": "2d7e611f-cd67-4e6b-894c-950901d7538c",
   "metadata": {},
   "outputs": [
    {
     "data": {
      "text/plain": [
       "26.0"
      ]
     },
     "execution_count": 44,
     "metadata": {},
     "output_type": "execute_result"
    }
   ],
   "source": [
    "data.median()"
   ]
  },
  {
   "cell_type": "code",
   "execution_count": 46,
   "id": "15905ea5-b18c-4c56-b748-6c14b394eac0",
   "metadata": {},
   "outputs": [
    {
     "name": "stdout",
     "output_type": "stream",
     "text": [
      "[24.0]\n"
     ]
    }
   ],
   "source": [
    "from collections import Counter\n",
    "# Count the frequency of each value\n",
    "count = Counter(data)\n",
    "\n",
    "# Find the maximum frequency\n",
    "max_frequency = max(count.values())\n",
    "# Find all values that have the maximum frequency (mode)\n",
    "modes = [k for k, v in count.items() if v == max_frequency]\n",
    "\n",
    "print(modes)"
   ]
  },
  {
   "cell_type": "code",
   "execution_count": 48,
   "id": "b1dcb7ce-ea2d-452d-9535-1f27013d16ef",
   "metadata": {},
   "outputs": [
    {
     "data": {
      "text/plain": [
       "0    24.0\n",
       "Name: Age, dtype: float64"
      ]
     },
     "execution_count": 48,
     "metadata": {},
     "output_type": "execute_result"
    }
   ],
   "source": [
    "dataset['Age'].mode()"
   ]
  },
  {
   "cell_type": "code",
   "execution_count": 50,
   "id": "fccb2785-b0df-4a53-aa9c-915ae768d0c4",
   "metadata": {},
   "outputs": [
    {
     "name": "stdout",
     "output_type": "stream",
     "text": [
      "21.0\n"
     ]
    }
   ],
   "source": [
    "range = max(dataset['Age']) - min(dataset['Age'])\n",
    "print(range)"
   ]
  },
  {
   "cell_type": "code",
   "execution_count": 5,
   "id": "6da65d23-7918-4f1f-9eae-446b7086d3bc",
   "metadata": {},
   "outputs": [],
   "source": [
    "\n",
    "# Define bins and labels (bins should be one more than labels)\n",
    "bins = [19, 25, 30, 35, 40, float('inf')]  \n",
    "labels = ['Mid-Age1', 'Mid-Age2', 'Mid-Age3', 'Mid-Age4', 'Senior']\n",
    "\n",
    "# Categorizing age into a new column\n",
    "dataset['Age Group'] = pd.cut(dataset['Age'], bins=bins, labels=labels, right=False)\n",
    "\n"
   ]
  },
  {
   "cell_type": "code",
   "execution_count": 12,
   "id": "ecb7ba14-f960-415b-9716-6f7a9ec42656",
   "metadata": {},
   "outputs": [
    {
     "name": "stderr",
     "output_type": "stream",
     "text": [
      "/tmp/ipykernel_5764/613652038.py:1: FutureWarning: The default of observed=False is deprecated and will be changed to True in a future version of pandas. Pass observed=False to retain current behavior or observed=True to adopt the future default and silence this warning.\n",
      "  dataset.groupby('Age Group')['Salary'].describe()\n"
     ]
    },
    {
     "data": {
      "text/html": [
       "<div>\n",
       "<style scoped>\n",
       "    .dataframe tbody tr th:only-of-type {\n",
       "        vertical-align: middle;\n",
       "    }\n",
       "\n",
       "    .dataframe tbody tr th {\n",
       "        vertical-align: top;\n",
       "    }\n",
       "\n",
       "    .dataframe thead th {\n",
       "        text-align: right;\n",
       "    }\n",
       "</style>\n",
       "<table border=\"1\" class=\"dataframe\">\n",
       "  <thead>\n",
       "    <tr style=\"text-align: right;\">\n",
       "      <th></th>\n",
       "      <th>count</th>\n",
       "      <th>mean</th>\n",
       "      <th>std</th>\n",
       "      <th>min</th>\n",
       "      <th>25%</th>\n",
       "      <th>50%</th>\n",
       "      <th>75%</th>\n",
       "      <th>max</th>\n",
       "    </tr>\n",
       "    <tr>\n",
       "      <th>Age Group</th>\n",
       "      <th></th>\n",
       "      <th></th>\n",
       "      <th></th>\n",
       "      <th></th>\n",
       "      <th></th>\n",
       "      <th></th>\n",
       "      <th></th>\n",
       "      <th></th>\n",
       "    </tr>\n",
       "  </thead>\n",
       "  <tbody>\n",
       "    <tr>\n",
       "      <th>Mid-Age1</th>\n",
       "      <td>150.0</td>\n",
       "      <td>2.706212e+06</td>\n",
       "      <td>3.188468e+06</td>\n",
       "      <td>30888.0</td>\n",
       "      <td>960457.0</td>\n",
       "      <td>1654380.0</td>\n",
       "      <td>3095650.0</td>\n",
       "      <td>16407501.0</td>\n",
       "    </tr>\n",
       "    <tr>\n",
       "      <th>Mid-Age2</th>\n",
       "      <td>177.0</td>\n",
       "      <td>5.698207e+06</td>\n",
       "      <td>5.547491e+06</td>\n",
       "      <td>55722.0</td>\n",
       "      <td>1015421.0</td>\n",
       "      <td>3533333.0</td>\n",
       "      <td>9000000.0</td>\n",
       "      <td>20158622.0</td>\n",
       "    </tr>\n",
       "    <tr>\n",
       "      <th>Mid-Age3</th>\n",
       "      <td>89.0</td>\n",
       "      <td>7.084467e+06</td>\n",
       "      <td>6.142556e+06</td>\n",
       "      <td>200600.0</td>\n",
       "      <td>2250000.0</td>\n",
       "      <td>5219169.0</td>\n",
       "      <td>10151612.0</td>\n",
       "      <td>22970500.0</td>\n",
       "    </tr>\n",
       "    <tr>\n",
       "      <th>Mid-Age4</th>\n",
       "      <td>27.0</td>\n",
       "      <td>3.733495e+06</td>\n",
       "      <td>4.754320e+06</td>\n",
       "      <td>222888.0</td>\n",
       "      <td>947276.0</td>\n",
       "      <td>2854940.0</td>\n",
       "      <td>4294009.5</td>\n",
       "      <td>25000000.0</td>\n",
       "    </tr>\n",
       "    <tr>\n",
       "      <th>Senior</th>\n",
       "      <td>3.0</td>\n",
       "      <td>4.666917e+06</td>\n",
       "      <td>4.155421e+06</td>\n",
       "      <td>250750.0</td>\n",
       "      <td>2750375.0</td>\n",
       "      <td>5250000.0</td>\n",
       "      <td>6875000.0</td>\n",
       "      <td>8500000.0</td>\n",
       "    </tr>\n",
       "  </tbody>\n",
       "</table>\n",
       "</div>"
      ],
      "text/plain": [
       "           count          mean           std       min        25%        50%  \\\n",
       "Age Group                                                                      \n",
       "Mid-Age1   150.0  2.706212e+06  3.188468e+06   30888.0   960457.0  1654380.0   \n",
       "Mid-Age2   177.0  5.698207e+06  5.547491e+06   55722.0  1015421.0  3533333.0   \n",
       "Mid-Age3    89.0  7.084467e+06  6.142556e+06  200600.0  2250000.0  5219169.0   \n",
       "Mid-Age4    27.0  3.733495e+06  4.754320e+06  222888.0   947276.0  2854940.0   \n",
       "Senior       3.0  4.666917e+06  4.155421e+06  250750.0  2750375.0  5250000.0   \n",
       "\n",
       "                  75%         max  \n",
       "Age Group                          \n",
       "Mid-Age1    3095650.0  16407501.0  \n",
       "Mid-Age2    9000000.0  20158622.0  \n",
       "Mid-Age3   10151612.0  22970500.0  \n",
       "Mid-Age4    4294009.5  25000000.0  \n",
       "Senior      6875000.0   8500000.0  "
      ]
     },
     "execution_count": 12,
     "metadata": {},
     "output_type": "execute_result"
    }
   ],
   "source": [
    "dataset.groupby('Age Group')['Salary'].describe()"
   ]
  },
  {
   "cell_type": "code",
   "execution_count": 9,
   "id": "ae767f8e-cbae-404f-939a-be71d72c7296",
   "metadata": {},
   "outputs": [
    {
     "data": {
      "text/html": [
       "<div>\n",
       "<style scoped>\n",
       "    .dataframe tbody tr th:only-of-type {\n",
       "        vertical-align: middle;\n",
       "    }\n",
       "\n",
       "    .dataframe tbody tr th {\n",
       "        vertical-align: top;\n",
       "    }\n",
       "\n",
       "    .dataframe thead th {\n",
       "        text-align: right;\n",
       "    }\n",
       "</style>\n",
       "<table border=\"1\" class=\"dataframe\">\n",
       "  <thead>\n",
       "    <tr style=\"text-align: right;\">\n",
       "      <th></th>\n",
       "      <th>count</th>\n",
       "      <th>mean</th>\n",
       "      <th>std</th>\n",
       "      <th>min</th>\n",
       "      <th>25%</th>\n",
       "      <th>50%</th>\n",
       "      <th>75%</th>\n",
       "      <th>max</th>\n",
       "    </tr>\n",
       "    <tr>\n",
       "      <th>Age</th>\n",
       "      <th></th>\n",
       "      <th></th>\n",
       "      <th></th>\n",
       "      <th></th>\n",
       "      <th></th>\n",
       "      <th></th>\n",
       "      <th></th>\n",
       "      <th></th>\n",
       "    </tr>\n",
       "  </thead>\n",
       "  <tbody>\n",
       "    <tr>\n",
       "      <th>19.0</th>\n",
       "      <td>2.0</td>\n",
       "      <td>1.930440e+06</td>\n",
       "      <td>2.791658e+05</td>\n",
       "      <td>1733040.0</td>\n",
       "      <td>1831740.00</td>\n",
       "      <td>1930440.0</td>\n",
       "      <td>2029140.00</td>\n",
       "      <td>2127840.0</td>\n",
       "    </tr>\n",
       "    <tr>\n",
       "      <th>20.0</th>\n",
       "      <td>19.0</td>\n",
       "      <td>2.725791e+06</td>\n",
       "      <td>1.510913e+06</td>\n",
       "      <td>525093.0</td>\n",
       "      <td>1636920.00</td>\n",
       "      <td>2481720.0</td>\n",
       "      <td>3954720.00</td>\n",
       "      <td>5703600.0</td>\n",
       "    </tr>\n",
       "    <tr>\n",
       "      <th>21.0</th>\n",
       "      <td>19.0</td>\n",
       "      <td>2.067380e+06</td>\n",
       "      <td>1.412350e+06</td>\n",
       "      <td>525093.0</td>\n",
       "      <td>1235480.00</td>\n",
       "      <td>1584480.0</td>\n",
       "      <td>2084940.00</td>\n",
       "      <td>5758680.0</td>\n",
       "    </tr>\n",
       "    <tr>\n",
       "      <th>22.0</th>\n",
       "      <td>26.0</td>\n",
       "      <td>2.357963e+06</td>\n",
       "      <td>1.517378e+06</td>\n",
       "      <td>525093.0</td>\n",
       "      <td>1169190.00</td>\n",
       "      <td>1793880.0</td>\n",
       "      <td>3366732.75</td>\n",
       "      <td>6331404.0</td>\n",
       "    </tr>\n",
       "    <tr>\n",
       "      <th>23.0</th>\n",
       "      <td>39.0</td>\n",
       "      <td>2.034746e+06</td>\n",
       "      <td>2.728292e+06</td>\n",
       "      <td>30888.0</td>\n",
       "      <td>637546.50</td>\n",
       "      <td>1175880.0</td>\n",
       "      <td>2736120.00</td>\n",
       "      <td>16000000.0</td>\n",
       "    </tr>\n",
       "    <tr>\n",
       "      <th>24.0</th>\n",
       "      <td>45.0</td>\n",
       "      <td>3.785300e+06</td>\n",
       "      <td>4.803384e+06</td>\n",
       "      <td>525093.0</td>\n",
       "      <td>900000.00</td>\n",
       "      <td>1509360.0</td>\n",
       "      <td>3873398.00</td>\n",
       "      <td>16407501.0</td>\n",
       "    </tr>\n",
       "    <tr>\n",
       "      <th>25.0</th>\n",
       "      <td>44.0</td>\n",
       "      <td>3.930867e+06</td>\n",
       "      <td>4.558463e+06</td>\n",
       "      <td>55722.0</td>\n",
       "      <td>947276.00</td>\n",
       "      <td>1305660.0</td>\n",
       "      <td>5856823.00</td>\n",
       "      <td>15851950.0</td>\n",
       "    </tr>\n",
       "    <tr>\n",
       "      <th>26.0</th>\n",
       "      <td>36.0</td>\n",
       "      <td>6.866566e+06</td>\n",
       "      <td>6.100471e+06</td>\n",
       "      <td>134215.0</td>\n",
       "      <td>1336790.50</td>\n",
       "      <td>3325000.0</td>\n",
       "      <td>12562500.00</td>\n",
       "      <td>17120106.0</td>\n",
       "    </tr>\n",
       "    <tr>\n",
       "      <th>27.0</th>\n",
       "      <td>40.0</td>\n",
       "      <td>6.676741e+06</td>\n",
       "      <td>6.831984e+06</td>\n",
       "      <td>55722.0</td>\n",
       "      <td>1030105.25</td>\n",
       "      <td>3425510.0</td>\n",
       "      <td>11708292.75</td>\n",
       "      <td>20158622.0</td>\n",
       "    </tr>\n",
       "    <tr>\n",
       "      <th>28.0</th>\n",
       "      <td>30.0</td>\n",
       "      <td>5.110189e+06</td>\n",
       "      <td>4.316627e+06</td>\n",
       "      <td>206192.0</td>\n",
       "      <td>1740131.50</td>\n",
       "      <td>4194803.5</td>\n",
       "      <td>6230008.50</td>\n",
       "      <td>19689000.0</td>\n",
       "    </tr>\n",
       "    <tr>\n",
       "      <th>29.0</th>\n",
       "      <td>27.0</td>\n",
       "      <td>6.224177e+06</td>\n",
       "      <td>4.870706e+06</td>\n",
       "      <td>111444.0</td>\n",
       "      <td>1910000.00</td>\n",
       "      <td>5543725.0</td>\n",
       "      <td>9431741.50</td>\n",
       "      <td>16407500.0</td>\n",
       "    </tr>\n",
       "    <tr>\n",
       "      <th>30.0</th>\n",
       "      <td>30.0</td>\n",
       "      <td>7.061859e+06</td>\n",
       "      <td>5.408670e+06</td>\n",
       "      <td>947276.0</td>\n",
       "      <td>2977205.00</td>\n",
       "      <td>5867803.0</td>\n",
       "      <td>9250000.00</td>\n",
       "      <td>22359364.0</td>\n",
       "    </tr>\n",
       "    <tr>\n",
       "      <th>31.0</th>\n",
       "      <td>22.0</td>\n",
       "      <td>8.511397e+06</td>\n",
       "      <td>7.170163e+06</td>\n",
       "      <td>947276.0</td>\n",
       "      <td>3000000.00</td>\n",
       "      <td>5439487.0</td>\n",
       "      <td>13475000.00</td>\n",
       "      <td>22970500.0</td>\n",
       "    </tr>\n",
       "    <tr>\n",
       "      <th>32.0</th>\n",
       "      <td>13.0</td>\n",
       "      <td>7.716958e+06</td>\n",
       "      <td>7.451336e+06</td>\n",
       "      <td>295327.0</td>\n",
       "      <td>3135000.00</td>\n",
       "      <td>5200000.0</td>\n",
       "      <td>11217391.00</td>\n",
       "      <td>22875000.0</td>\n",
       "    </tr>\n",
       "    <tr>\n",
       "      <th>33.0</th>\n",
       "      <td>14.0</td>\n",
       "      <td>3.930739e+06</td>\n",
       "      <td>4.354293e+06</td>\n",
       "      <td>200600.0</td>\n",
       "      <td>1119326.00</td>\n",
       "      <td>2300000.0</td>\n",
       "      <td>4040084.50</td>\n",
       "      <td>13000000.0</td>\n",
       "    </tr>\n",
       "    <tr>\n",
       "      <th>34.0</th>\n",
       "      <td>10.0</td>\n",
       "      <td>7.606030e+06</td>\n",
       "      <td>5.653035e+06</td>\n",
       "      <td>261894.0</td>\n",
       "      <td>4512750.00</td>\n",
       "      <td>6280675.5</td>\n",
       "      <td>9103916.25</td>\n",
       "      <td>20000000.0</td>\n",
       "    </tr>\n",
       "    <tr>\n",
       "      <th>35.0</th>\n",
       "      <td>8.0</td>\n",
       "      <td>3.461740e+06</td>\n",
       "      <td>2.364690e+06</td>\n",
       "      <td>947276.0</td>\n",
       "      <td>1361209.25</td>\n",
       "      <td>3302470.0</td>\n",
       "      <td>4811619.75</td>\n",
       "      <td>7448760.0</td>\n",
       "    </tr>\n",
       "    <tr>\n",
       "      <th>36.0</th>\n",
       "      <td>10.0</td>\n",
       "      <td>2.238120e+06</td>\n",
       "      <td>1.550061e+06</td>\n",
       "      <td>947276.0</td>\n",
       "      <td>947276.00</td>\n",
       "      <td>1809826.0</td>\n",
       "      <td>2888735.00</td>\n",
       "      <td>5675000.0</td>\n",
       "    </tr>\n",
       "    <tr>\n",
       "      <th>37.0</th>\n",
       "      <td>3.0</td>\n",
       "      <td>1.277778e+07</td>\n",
       "      <td>1.071517e+07</td>\n",
       "      <td>5000000.0</td>\n",
       "      <td>6666667.00</td>\n",
       "      <td>8333334.0</td>\n",
       "      <td>16666667.00</td>\n",
       "      <td>25000000.0</td>\n",
       "    </tr>\n",
       "    <tr>\n",
       "      <th>38.0</th>\n",
       "      <td>4.0</td>\n",
       "      <td>1.840041e+06</td>\n",
       "      <td>1.496661e+06</td>\n",
       "      <td>222888.0</td>\n",
       "      <td>766179.00</td>\n",
       "      <td>1880638.0</td>\n",
       "      <td>2954500.00</td>\n",
       "      <td>3376000.0</td>\n",
       "    </tr>\n",
       "    <tr>\n",
       "      <th>39.0</th>\n",
       "      <td>2.0</td>\n",
       "      <td>2.517872e+06</td>\n",
       "      <td>2.220522e+06</td>\n",
       "      <td>947726.0</td>\n",
       "      <td>1732799.25</td>\n",
       "      <td>2517872.5</td>\n",
       "      <td>3302945.75</td>\n",
       "      <td>4088019.0</td>\n",
       "    </tr>\n",
       "    <tr>\n",
       "      <th>40.0</th>\n",
       "      <td>3.0</td>\n",
       "      <td>4.666917e+06</td>\n",
       "      <td>4.155421e+06</td>\n",
       "      <td>250750.0</td>\n",
       "      <td>2750375.00</td>\n",
       "      <td>5250000.0</td>\n",
       "      <td>6875000.00</td>\n",
       "      <td>8500000.0</td>\n",
       "    </tr>\n",
       "  </tbody>\n",
       "</table>\n",
       "</div>"
      ],
      "text/plain": [
       "      count          mean           std        min         25%        50%  \\\n",
       "Age                                                                         \n",
       "19.0    2.0  1.930440e+06  2.791658e+05  1733040.0  1831740.00  1930440.0   \n",
       "20.0   19.0  2.725791e+06  1.510913e+06   525093.0  1636920.00  2481720.0   \n",
       "21.0   19.0  2.067380e+06  1.412350e+06   525093.0  1235480.00  1584480.0   \n",
       "22.0   26.0  2.357963e+06  1.517378e+06   525093.0  1169190.00  1793880.0   \n",
       "23.0   39.0  2.034746e+06  2.728292e+06    30888.0   637546.50  1175880.0   \n",
       "24.0   45.0  3.785300e+06  4.803384e+06   525093.0   900000.00  1509360.0   \n",
       "25.0   44.0  3.930867e+06  4.558463e+06    55722.0   947276.00  1305660.0   \n",
       "26.0   36.0  6.866566e+06  6.100471e+06   134215.0  1336790.50  3325000.0   \n",
       "27.0   40.0  6.676741e+06  6.831984e+06    55722.0  1030105.25  3425510.0   \n",
       "28.0   30.0  5.110189e+06  4.316627e+06   206192.0  1740131.50  4194803.5   \n",
       "29.0   27.0  6.224177e+06  4.870706e+06   111444.0  1910000.00  5543725.0   \n",
       "30.0   30.0  7.061859e+06  5.408670e+06   947276.0  2977205.00  5867803.0   \n",
       "31.0   22.0  8.511397e+06  7.170163e+06   947276.0  3000000.00  5439487.0   \n",
       "32.0   13.0  7.716958e+06  7.451336e+06   295327.0  3135000.00  5200000.0   \n",
       "33.0   14.0  3.930739e+06  4.354293e+06   200600.0  1119326.00  2300000.0   \n",
       "34.0   10.0  7.606030e+06  5.653035e+06   261894.0  4512750.00  6280675.5   \n",
       "35.0    8.0  3.461740e+06  2.364690e+06   947276.0  1361209.25  3302470.0   \n",
       "36.0   10.0  2.238120e+06  1.550061e+06   947276.0   947276.00  1809826.0   \n",
       "37.0    3.0  1.277778e+07  1.071517e+07  5000000.0  6666667.00  8333334.0   \n",
       "38.0    4.0  1.840041e+06  1.496661e+06   222888.0   766179.00  1880638.0   \n",
       "39.0    2.0  2.517872e+06  2.220522e+06   947726.0  1732799.25  2517872.5   \n",
       "40.0    3.0  4.666917e+06  4.155421e+06   250750.0  2750375.00  5250000.0   \n",
       "\n",
       "              75%         max  \n",
       "Age                            \n",
       "19.0   2029140.00   2127840.0  \n",
       "20.0   3954720.00   5703600.0  \n",
       "21.0   2084940.00   5758680.0  \n",
       "22.0   3366732.75   6331404.0  \n",
       "23.0   2736120.00  16000000.0  \n",
       "24.0   3873398.00  16407501.0  \n",
       "25.0   5856823.00  15851950.0  \n",
       "26.0  12562500.00  17120106.0  \n",
       "27.0  11708292.75  20158622.0  \n",
       "28.0   6230008.50  19689000.0  \n",
       "29.0   9431741.50  16407500.0  \n",
       "30.0   9250000.00  22359364.0  \n",
       "31.0  13475000.00  22970500.0  \n",
       "32.0  11217391.00  22875000.0  \n",
       "33.0   4040084.50  13000000.0  \n",
       "34.0   9103916.25  20000000.0  \n",
       "35.0   4811619.75   7448760.0  \n",
       "36.0   2888735.00   5675000.0  \n",
       "37.0  16666667.00  25000000.0  \n",
       "38.0   2954500.00   3376000.0  \n",
       "39.0   3302945.75   4088019.0  \n",
       "40.0   6875000.00   8500000.0  "
      ]
     },
     "execution_count": 9,
     "metadata": {},
     "output_type": "execute_result"
    }
   ],
   "source": [
    "dataset.groupby('Age')['Salary'].describe()"
   ]
  },
  {
   "cell_type": "code",
   "execution_count": 56,
   "id": "ee14fa75-fa3a-4995-9be6-cea3a9a3fb43",
   "metadata": {},
   "outputs": [],
   "source": [
    "# Variance (sample) ddof =0 population\n",
    "variance = np.var(dataset['Age'], ddof=0)"
   ]
  },
  {
   "cell_type": "code",
   "execution_count": 57,
   "id": "1a0d58cf-f8d0-4352-805d-4e8f4ee6834a",
   "metadata": {},
   "outputs": [
    {
     "name": "stdout",
     "output_type": "stream",
     "text": [
      "19.35292005228658\n"
     ]
    }
   ],
   "source": [
    "print(variance)"
   ]
  },
  {
   "cell_type": "code",
   "execution_count": 58,
   "id": "b1ff5d96-77d5-4a30-b5f3-b795bbf5b504",
   "metadata": {},
   "outputs": [],
   "source": [
    "# Variance (sample) ddof =1 sample\n",
    "variance = np.var(dataset['Age'], ddof=1)"
   ]
  },
  {
   "cell_type": "code",
   "execution_count": 59,
   "id": "07e6ac76-b1b9-46bf-8725-5c7b979c5874",
   "metadata": {},
   "outputs": [
    {
     "name": "stdout",
     "output_type": "stream",
     "text": [
      "19.395360666436332\n"
     ]
    }
   ],
   "source": [
    "print(variance)"
   ]
  },
  {
   "cell_type": "code",
   "execution_count": 64,
   "id": "9708aaae-6e2d-41e0-9197-8b8b3b613850",
   "metadata": {},
   "outputs": [],
   "source": [
    "# Standard Deviation (sample) \n",
    "std_deviation = np.std(dataset['Age'], ddof=1)"
   ]
  },
  {
   "cell_type": "code",
   "execution_count": 65,
   "id": "d7c7b4d1-3857-4f22-94e4-c257965685a4",
   "metadata": {},
   "outputs": [
    {
     "name": "stdout",
     "output_type": "stream",
     "text": [
      "4.404016424405833\n"
     ]
    }
   ],
   "source": [
    "print(std_deviation)"
   ]
  },
  {
   "cell_type": "code",
   "execution_count": 66,
   "id": "19d1bac4-329d-4413-aeb6-0a0105d956d4",
   "metadata": {},
   "outputs": [
    {
     "name": "stdout",
     "output_type": "stream",
     "text": [
      "4.399195386918678\n"
     ]
    }
   ],
   "source": [
    "std_deviation = np.std(dataset['Age'] ,ddof=0)\n",
    "print(std_deviation)"
   ]
  },
  {
   "cell_type": "code",
   "execution_count": 69,
   "id": "bceb14e0-b385-4ab3-ad03-313160800c40",
   "metadata": {},
   "outputs": [
    {
     "name": "stdout",
     "output_type": "stream",
     "text": [
      "Q1: 24.0\n",
      "Q2 (Median): 26.0\n",
      "Q3: 30.0\n"
     ]
    }
   ],
   "source": [
    "\n",
    "# Calculate Quartiles using numpy\n",
    "Q1 = np.percentile(sorted(dataset['Age'].dropna()), 25)\n",
    "Q2 = np.percentile(sorted(dataset['Age'].dropna()), 50)  # Median\n",
    "Q3 = np.percentile(sorted(dataset['Age'].dropna()), 75)\n",
    "print(f\"Q1: {Q1}\")\n",
    "print(f\"Q2 (Median): {Q2}\")\n",
    "print(f\"Q3: {Q3}\")\n"
   ]
  },
  {
   "cell_type": "code",
   "execution_count": 13,
   "id": "7510771f-4d27-4a9d-8652-1094947bd37d",
   "metadata": {},
   "outputs": [
    {
     "data": {
      "text/plain": [
       "(150, 6)"
      ]
     },
     "execution_count": 13,
     "metadata": {},
     "output_type": "execute_result"
    }
   ],
   "source": [
    "dataset = pd.read_csv(\"Iris.csv\")  \n",
    "dataset.shape"
   ]
  },
  {
   "cell_type": "code",
   "execution_count": 5,
   "id": "620782c9-f48e-484f-bdd1-68e5c0f222e4",
   "metadata": {},
   "outputs": [
    {
     "data": {
      "text/plain": [
       "Species\n",
       "Iris-setosa        50\n",
       "Iris-versicolor    50\n",
       "Iris-virginica     50\n",
       "Name: count, dtype: int64"
      ]
     },
     "execution_count": 5,
     "metadata": {},
     "output_type": "execute_result"
    }
   ],
   "source": [
    "dataset.Species.value_counts()"
   ]
  },
  {
   "cell_type": "code",
   "execution_count": 7,
   "id": "3977b383-065d-4cc0-80ba-af116691c641",
   "metadata": {},
   "outputs": [
    {
     "name": "stdout",
     "output_type": "stream",
     "text": [
      "\n",
      "Iris-setosa\n",
      "               count    mean        std  min     25%   50%     75%   max\n",
      "Id              50.0  25.500  14.577380  1.0  13.250  25.5  37.750  50.0\n",
      "SepalLengthCm   50.0   5.006   0.352490  4.3   4.800   5.0   5.200   5.8\n",
      "SepalWidthCm    50.0   3.418   0.381024  2.3   3.125   3.4   3.675   4.4\n",
      "PetalLengthCm   50.0   1.464   0.173511  1.0   1.400   1.5   1.575   1.9\n",
      "PetalWidthCm    50.0   0.244   0.107210  0.1   0.200   0.2   0.300   0.6\n",
      "\n",
      "Iris-versicolor\n",
      "               count    mean        std   min     25%    50%    75%    max\n",
      "Id              50.0  75.500  14.577380  51.0  63.250  75.50  87.75  100.0\n",
      "SepalLengthCm   50.0   5.936   0.516171   4.9   5.600   5.90   6.30    7.0\n",
      "SepalWidthCm    50.0   2.770   0.313798   2.0   2.525   2.80   3.00    3.4\n",
      "PetalLengthCm   50.0   4.260   0.469911   3.0   4.000   4.35   4.60    5.1\n",
      "PetalWidthCm    50.0   1.326   0.197753   1.0   1.200   1.30   1.50    1.8\n",
      "\n",
      "Iris-virginica\n",
      "               count     mean        std    min      25%     50%      75%  \\\n",
      "Id              50.0  125.500  14.577380  101.0  113.250  125.50  137.750   \n",
      "SepalLengthCm   50.0    6.588   0.635880    4.9    6.225    6.50    6.900   \n",
      "SepalWidthCm    50.0    2.974   0.322497    2.2    2.800    3.00    3.175   \n",
      "PetalLengthCm   50.0    5.552   0.551895    4.5    5.100    5.55    5.875   \n",
      "PetalWidthCm    50.0    2.026   0.274650    1.4    1.800    2.00    2.300   \n",
      "\n",
      "                 max  \n",
      "Id             150.0  \n",
      "SepalLengthCm    7.9  \n",
      "SepalWidthCm     3.8  \n",
      "PetalLengthCm    6.9  \n",
      "PetalWidthCm     2.5  \n"
     ]
    }
   ],
   "source": [
    "def basic_statistics(df):\n",
    "    print(\"\\nIris-setosa\")\n",
    "    \n",
    "    print(df[df.Species=='Iris-setosa'].describe().transpose())\n",
    "    print(\"\\nIris-versicolor\")\n",
    "    print(df[df.Species=='Iris-versicolor'].describe().transpose())\n",
    "    print(\"\\nIris-virginica\")\n",
    "    print(df[df.Species=='Iris-virginica'].describe().transpose())\n",
    "basic_statistics(dataset)    "
   ]
  },
  {
   "cell_type": "code",
   "execution_count": 20,
   "id": "8de1aa7a-08df-43ee-aff4-1cfb23438949",
   "metadata": {},
   "outputs": [
    {
     "name": "stdout",
     "output_type": "stream",
     "text": [
      "(50, 6)\n",
      "Statistics for Iris-setosa:\n",
      "Mean:\n",
      "Id               25.500\n",
      "SepalLengthCm     5.006\n",
      "SepalWidthCm      3.418\n",
      "PetalLengthCm     1.464\n",
      "PetalWidthCm      0.244\n",
      "dtype: float64 \n",
      "\n",
      "Standard Deviation:\n",
      "Id               14.577380\n",
      "SepalLengthCm     0.352490\n",
      "SepalWidthCm      0.381024\n",
      "PetalLengthCm     0.173511\n",
      "PetalWidthCm      0.107210\n",
      "dtype: float64 \n",
      "\n",
      "Percentiles:\n",
      "[[13.25   4.8    3.125  1.4    0.2  ]\n",
      " [25.5    5.     3.4    1.5    0.2  ]\n",
      " [37.75   5.2    3.675  1.575  0.3  ]] \n",
      "\n",
      "Min and Max:\n",
      "Id                         1\n",
      "SepalLengthCm            4.3\n",
      "SepalWidthCm             2.3\n",
      "PetalLengthCm            1.0\n",
      "PetalWidthCm             0.1\n",
      "Species          Iris-setosa\n",
      "dtype: object Id                        50\n",
      "SepalLengthCm            5.8\n",
      "SepalWidthCm             4.4\n",
      "PetalLengthCm            1.9\n",
      "PetalWidthCm             0.6\n",
      "Species          Iris-setosa\n",
      "dtype: object \n",
      "\n",
      "(50, 6)\n",
      "Statistics for Iris-versicolor:\n",
      "Mean:\n",
      "Id               75.500\n",
      "SepalLengthCm     5.936\n",
      "SepalWidthCm      2.770\n",
      "PetalLengthCm     4.260\n",
      "PetalWidthCm      1.326\n",
      "dtype: float64 \n",
      "\n",
      "Standard Deviation:\n",
      "Id               14.577380\n",
      "SepalLengthCm     0.516171\n",
      "SepalWidthCm      0.313798\n",
      "PetalLengthCm     0.469911\n",
      "PetalWidthCm      0.197753\n",
      "dtype: float64 \n",
      "\n",
      "Percentiles:\n",
      "[[63.25   5.6    2.525  4.     1.2  ]\n",
      " [75.5    5.9    2.8    4.35   1.3  ]\n",
      " [87.75   6.3    3.     4.6    1.5  ]] \n",
      "\n",
      "Min and Max:\n",
      "Id                            51\n",
      "SepalLengthCm                4.9\n",
      "SepalWidthCm                 2.0\n",
      "PetalLengthCm                3.0\n",
      "PetalWidthCm                 1.0\n",
      "Species          Iris-versicolor\n",
      "dtype: object Id                           100\n",
      "SepalLengthCm                7.0\n",
      "SepalWidthCm                 3.4\n",
      "PetalLengthCm                5.1\n",
      "PetalWidthCm                 1.8\n",
      "Species          Iris-versicolor\n",
      "dtype: object \n",
      "\n",
      "(50, 6)\n",
      "Statistics for Iris-virginica:\n",
      "Mean:\n",
      "Id               125.500\n",
      "SepalLengthCm      6.588\n",
      "SepalWidthCm       2.974\n",
      "PetalLengthCm      5.552\n",
      "PetalWidthCm       2.026\n",
      "dtype: float64 \n",
      "\n",
      "Standard Deviation:\n",
      "Id               14.577380\n",
      "SepalLengthCm     0.635880\n",
      "SepalWidthCm      0.322497\n",
      "PetalLengthCm     0.551895\n",
      "PetalWidthCm      0.274650\n",
      "dtype: float64 \n",
      "\n",
      "Percentiles:\n",
      "[[113.25    6.225   2.8     5.1     1.8  ]\n",
      " [125.5     6.5     3.      5.55    2.   ]\n",
      " [137.75    6.9     3.175   5.875   2.3  ]] \n",
      "\n",
      "Min and Max:\n",
      "Id                          101\n",
      "SepalLengthCm               4.9\n",
      "SepalWidthCm                2.2\n",
      "PetalLengthCm               4.5\n",
      "PetalWidthCm                1.4\n",
      "Species          Iris-virginica\n",
      "dtype: object Id                          150\n",
      "SepalLengthCm               7.9\n",
      "SepalWidthCm                3.8\n",
      "PetalLengthCm               6.9\n",
      "PetalWidthCm                2.5\n",
      "Species          Iris-virginica\n",
      "dtype: object \n",
      "\n"
     ]
    }
   ],
   "source": [
    "# Group the data by species\n",
    "species_groups = dataset.groupby('Species')\n",
    "\n",
    "# Display statistical details for each species\n",
    "for species, group in species_groups:\n",
    "    print(group.shape)\n",
    "    print(f\"Statistics for {species}:\")\n",
    "    # Mean\n",
    "    print(\"Mean:\")\n",
    "    print(group.mean(numeric_only=True), \"\\n\")\n",
    "    \n",
    "    # Standard Deviation\n",
    "    print(\"Standard Deviation:\")\n",
    "    print(group.std(numeric_only=True), \"\\n\")\n",
    "    \n",
    "    # Percentiles (25th, 50th, and 75th)\n",
    "    print(\"Percentiles:\")\n",
    "    print(np.percentile(group.drop(columns=['Species']), [25,50,75], axis=0), \"\\n\")\n",
    "    \n",
    "    # Min and Max\n",
    "    print(\"Min and Max:\")\n",
    "    print(group.min(), group.max(), \"\\n\")"
   ]
  },
  {
   "cell_type": "code",
   "execution_count": 10,
   "id": "75ead480-a327-4e54-9d6b-e01cbd1ea2d7",
   "metadata": {},
   "outputs": [
    {
     "data": {
      "text/plain": [
       "Id                 int64\n",
       "SepalLengthCm    float64\n",
       "SepalWidthCm     float64\n",
       "PetalLengthCm    float64\n",
       "PetalWidthCm     float64\n",
       "Species           object\n",
       "dtype: object"
      ]
     },
     "execution_count": 10,
     "metadata": {},
     "output_type": "execute_result"
    }
   ],
   "source": [
    "dataset.dtypes"
   ]
  },
  {
   "cell_type": "code",
   "execution_count": 14,
   "id": "2189abfd-768f-4f42-b1fe-c98f3237e094",
   "metadata": {},
   "outputs": [
    {
     "name": "stdout",
     "output_type": "stream",
     "text": [
      "(50, 6)\n",
      "Statistics for Iris-setosa:\n",
      "(50, 6)\n",
      "Statistics for Iris-versicolor:\n",
      "(50, 6)\n",
      "Statistics for Iris-virginica:\n"
     ]
    }
   ],
   "source": [
    "species_groups = dataset.groupby('Species')\n",
    "\n",
    "# Display statistical details for each species\n",
    "for species, group in species_groups:\n",
    "    print(group.shape)\n",
    "    print(f\"Statistics for {species}:\")\n",
    "    # Mean\n",
    "    group.describe()"
   ]
  },
  {
   "cell_type": "code",
   "execution_count": null,
   "id": "d56f587e-e812-4e94-b620-404427aa1785",
   "metadata": {},
   "outputs": [],
   "source": []
  }
 ],
 "metadata": {
  "kernelspec": {
   "display_name": "Python 3 (ipykernel)",
   "language": "python",
   "name": "python3"
  },
  "language_info": {
   "codemirror_mode": {
    "name": "ipython",
    "version": 3
   },
   "file_extension": ".py",
   "mimetype": "text/x-python",
   "name": "python",
   "nbconvert_exporter": "python",
   "pygments_lexer": "ipython3",
   "version": "3.10.12"
  }
 },
 "nbformat": 4,
 "nbformat_minor": 5
}
